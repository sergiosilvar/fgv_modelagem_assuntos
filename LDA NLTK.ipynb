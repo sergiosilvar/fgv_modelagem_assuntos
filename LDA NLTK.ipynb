{
 "metadata": {
  "name": "",
  "signature": "sha256:ecc51403d3e3973878d84caa4814110d3f57b37c5f2420f13610a12cf754657e"
 },
 "nbformat": 3,
 "nbformat_minor": 0,
 "worksheets": [
  {
   "cells": [
    {
     "cell_type": "markdown",
     "metadata": {},
     "source": [
      "### Importa\u00e7\u00e3o do arquivo com fun\u00e7\u00f5es."
     ]
    },
    {
     "cell_type": "code",
     "collapsed": false,
     "input": [
      "import topic_modeling as tp \n",
      "reload(tp)\n",
      "import datetime as dt\n",
      "import sys\n",
      "sys.setdefaultencoding('utf-8')\n",
      "reload(sys)"
     ],
     "language": "python",
     "metadata": {},
     "outputs": [],
     "prompt_number": 23
    },
    {
     "cell_type": "markdown",
     "metadata": {},
     "source": [
      "### Execu\u00e7\u00e3o do LDA."
     ]
    },
    {
     "cell_type": "markdown",
     "metadata": {},
     "source": [
      "##### Corpus Machado de Assis."
     ]
    },
    {
     "cell_type": "code",
     "collapsed": false,
     "input": [
      "pasta = 'machado'\n",
      "corpus = nltk.corpus.machado\n",
      "stopwords = tp.stopwords_pt()\n",
      "min_rep = -1\n",
      "num_topics=20\n",
      "num_words = 20\n",
      "#cria_pastas(pasta)\n",
      "#pre_processamento(pasta, corpus, stopwords,min_rep=min_rep)\n",
      "#registra_freq(pasta)\n",
      "#constroi_vocabulario(pasta)\n",
      "dic,corpus, lda = tp.lda_gensim(pasta, num_topics=num_topics,filtro='contos*')\n",
      "#gera_wordclouds(lda, pasta=pasta,n_topics=lda.num_topics, n_words=num_words)\n",
      "tp.topicos_txt(lda, pasta, n_topics=lda.num_topics, n_words=num_words)"
     ],
     "language": "python",
     "metadata": {},
     "outputs": [],
     "prompt_number": 45
    },
    {
     "cell_type": "markdown",
     "metadata": {},
     "source": [
      "##### Corpus Movie Reviews."
     ]
    },
    {
     "cell_type": "code",
     "collapsed": false,
     "input": [
      "pasta = 'movie_reviews'\n",
      "corpus = nltk.corpus.movie_reviews\n",
      "stopwords = stopwords_en()\n",
      "min_rep = -1\n",
      "num_topics=10\n",
      "num_words = 20\n",
      "#cria_pastas(pasta)\n",
      "#pre_processamento(pasta, corpus, stopwords,min_rep=min_rep)\n",
      "#registra_freq(pasta)\n",
      "#constroi_vocabulario(pasta)\n",
      "dic,corpus, lda = lda_gensim(pasta, num_topics=num_topics)\n",
      "#gera_wordclouds(lda, pasta=pasta,n_topics=lda.num_topics, n_words=num_words)\n",
      "topicos_txt(lda, pasta, n_topics=lda.num_topics, n_words=num_words)"
     ],
     "language": "python",
     "metadata": {},
     "outputs": []
    },
    {
     "cell_type": "markdown",
     "metadata": {},
     "source": [
      "##### Corpus Folha de S\u00e3o Paulo."
     ]
    },
    {
     "cell_type": "code",
     "collapsed": false,
     "input": [
      "import nltk.corpus\n",
      "t1 = dt.datetime.now()\n",
      "\n",
      "pasta = 'mac_morpho'\n",
      "corpus = nltk.corpus.mac_morpho\n",
      "stopwords = tp.stopwords_pt()\n",
      "min_rep = -1\n",
      "num_topics=20\n",
      "num_words = 20\n",
      "#cria_pastas(pasta)\n",
      "#pre_processamento(pasta, corpus, stopwords,min_rep=min_rep)\n",
      "#registra_freq(pasta)\n",
      "#constroi_vocabulario(pasta)\n",
      "dic,corpus, lda = tp.lda_gensim(pasta, num_topics=num_topics, filtro='*')\n",
      "#gera_wordclouds(lda, pasta=pasta,n_topics=lda.num_topics, n_words=num_words)\n",
      "tp.topicos_txt(lda, pasta, n_topics=lda.num_topics, n_words=num_words)\n",
      "delta_t = dt.datetime.now() - t1\n",
      "delta_t.seconds\n",
      "\n"
     ],
     "language": "python",
     "metadata": {},
     "outputs": [
      {
       "metadata": {},
       "output_type": "pyout",
       "prompt_number": 22,
       "text": [
        "289"
       ]
      }
     ],
     "prompt_number": 22
    },
    {
     "cell_type": "markdown",
     "metadata": {},
     "source": [
      "### Carregar LDA feito anteriomente"
     ]
    },
    {
     "cell_type": "code",
     "collapsed": false,
     "input": [
      "lda = ldamodel.LdaModel.load('machado/lda')"
     ],
     "language": "python",
     "metadata": {},
     "outputs": [],
     "prompt_number": 19
    },
    {
     "cell_type": "code",
     "collapsed": false,
     "input": [
      "lda.show_topics()\n",
      "%clear"
     ],
     "language": "python",
     "metadata": {},
     "outputs": [],
     "prompt_number": 46
    },
    {
     "cell_type": "code",
     "collapsed": false,
     "input": [],
     "language": "python",
     "metadata": {},
     "outputs": [],
     "prompt_number": 46
    },
    {
     "cell_type": "code",
     "collapsed": false,
     "input": [
      "hdp = hdp_gensim(pasta='machado', filtro='roman*')"
     ],
     "language": "python",
     "metadata": {},
     "outputs": [],
     "prompt_number": 20
    },
    {
     "cell_type": "code",
     "collapsed": false,
     "input": [
      "doc = tp.documentos(pasta='machado', filtro='romanc*')"
     ],
     "language": "python",
     "metadata": {},
     "outputs": [],
     "prompt_number": 7
    },
    {
     "cell_type": "code",
     "collapsed": false,
     "input": [],
     "language": "python",
     "metadata": {},
     "outputs": [
      {
       "metadata": {},
       "output_type": "pyout",
       "prompt_number": 10,
       "text": [
        "0"
       ]
      }
     ],
     "prompt_number": 10
    },
    {
     "cell_type": "code",
     "collapsed": false,
     "input": [],
     "language": "python",
     "metadata": {},
     "outputs": [],
     "prompt_number": 14
    },
    {
     "cell_type": "code",
     "collapsed": false,
     "input": [],
     "language": "python",
     "metadata": {},
     "outputs": [],
     "prompt_number": 46
    }
   ],
   "metadata": {}
  }
 ]
}