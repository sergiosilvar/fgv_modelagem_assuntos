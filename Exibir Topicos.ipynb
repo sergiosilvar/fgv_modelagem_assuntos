{
 "metadata": {
  "name": ""
 },
 "nbformat": 3,
 "nbformat_minor": 0,
 "worksheets": [
  {
   "cells": [
    {
     "cell_type": "code",
     "collapsed": false,
     "input": [
      "%pylab inline\n",
      "from gensim import models\n",
      "from   Topics.visualization.wordcloud import make_wordcloud\n",
      "from IPython.display import display, Image\n",
      "import glob\n",
      "import os\n",
      "import sys\n",
      "reload(sys)\n",
      "sys.setdefaultencoding(\"utf-8\")\n",
      "\n",
      "FONT_PATH = 'C:\\Windows\\Fonts\\Arial.ttf'\n",
      "\n",
      "def gensim_extract(lda, n_topics=10, n_words=10):\n",
      "    p = []\n",
      "    for top in lda.show_topics(topics=n_topics, topn=n_words):\n",
      "        lista_p = top.split(' + ') \n",
      "        vk = [(l.split('*')[1],float(l.split('*')[0])) for l in lista_p ]\n",
      "        p.append(vk)\n",
      "        #[l[1] for l in lista_v]\n",
      "    return p\n",
      "\n",
      "def gera_wordclouds(lda, pasta='./', n_topics=10, n_words=10):\n",
      "    i = 0\n",
      "    html = '<html><body>\\n'\n",
      "    \n",
      "\n",
      "    for topico in gensim_extract(lda, n_topics=n_topics, n_words=n_words):\n",
      "        i += 1\n",
      "        words = []\n",
      "        prob = []\n",
      "        for item in topico:\n",
      "            words.append(item[0])\n",
      "            prob.append(item[1])\n",
      "        img = 'topico_{:02}.png'.format(i)\n",
      "        make_wordcloud(array(words), array(prob), fname=\"{}/{}\".format(pasta, img), font_path=FONT_PATH, width=600, height=300)    \n",
      "        html += '<div><img src=\"'+img+'\" style=\"margin:10px\"/></div>\\n'\n",
      "\n",
      "    html += '</body></html>'\n",
      "\n",
      "    fname = pasta+'/topicos.html'\n",
      "  \n",
      "    f = open(fname, 'w')\n",
      "    f.write(html)\n",
      "    f.close()\n",
      "\n",
      "\n",
      "        \n",
      "def exibe_wordclouds_inline(pasta='.'):\n",
      "    for img in glob.glob(pasta+'/*.png'):\n",
      "        display(Image(filename=img))\n",
      "\n",
      "        "
     ],
     "language": "python",
     "metadata": {},
     "outputs": [],
     "prompt_number": 65
    },
    {
     "cell_type": "code",
     "collapsed": false,
     "input": [
      "NUM_TOPICOS = 10\n",
      "\n",
      "lda = models.LdaModel.load('./machado/machado.lda')\n",
      "gera_wordclouds(lda, pasta='./machado',n_topics=NUM_TOPICOS, n_words=20)"
     ],
     "language": "python",
     "metadata": {},
     "outputs": [],
     "prompt_number": 49
    },
    {
     "cell_type": "code",
     "collapsed": false,
     "input": [
      "lda = models.LdaModel.load('./movie_reviews/')\n",
      "gera_wordclouds(lda, pasta='./machado',n_topics=NUM_TOPICOS, n_words=20)"
     ],
     "language": "python",
     "metadata": {},
     "outputs": [],
     "prompt_number": 66
    },
    {
     "cell_type": "code",
     "collapsed": false,
     "input": [],
     "language": "python",
     "metadata": {},
     "outputs": [],
     "prompt_number": 66
    },
    {
     "cell_type": "code",
     "collapsed": false,
     "input": [],
     "language": "python",
     "metadata": {},
     "outputs": [],
     "prompt_number": 66
    },
    {
     "cell_type": "code",
     "collapsed": false,
     "input": [],
     "language": "python",
     "metadata": {},
     "outputs": []
    }
   ],
   "metadata": {}
  }
 ]
}