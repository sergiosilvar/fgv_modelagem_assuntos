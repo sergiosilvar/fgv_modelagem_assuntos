{
 "metadata": {
  "name": ""
 },
 "nbformat": 3,
 "nbformat_minor": 0,
 "worksheets": [
  {
   "cells": [
    {
     "cell_type": "code",
     "collapsed": false,
     "input": [
      "%pylab inline"
     ],
     "language": "python",
     "metadata": {},
     "outputs": [
      {
       "output_type": "stream",
       "stream": "stdout",
       "text": [
        "Populating the interactive namespace from numpy and matplotlib\n"
       ]
      }
     ],
     "prompt_number": 2
    },
    {
     "cell_type": "code",
     "collapsed": false,
     "input": [
      "from __future__ import division\n",
      "import sys\n",
      "reload(sys)\n",
      "sys.setdefaultencoding(\"utf-8\")"
     ],
     "language": "python",
     "metadata": {},
     "outputs": [],
     "prompt_number": 37
    },
    {
     "cell_type": "code",
     "collapsed": false,
     "input": [
      "from nltk.corpus import machado as mch\n",
      "from  nltk.tokenize.regexp import RegexpTokenizer\n",
      "import nltk\n",
      "\n",
      "f = open('stopwords_pt.txt','r')\n",
      "stopwords = f.read().split('\\n')\n",
      "f.close()\n"
     ],
     "language": "python",
     "metadata": {},
     "outputs": [],
     "prompt_number": 27
    },
    {
     "cell_type": "code",
     "collapsed": false,
     "input": [
      "def tokenizar_docs():\n",
      "    tokenizer = RegexpTokenizer(r'\\w+')\n",
      "    for fileid in mch.fileids():\n",
      "        print 'Tokenizar %s...' % fileid \n",
      "        words = mch.words(fileid)\n",
      "        doc = [w.lower() for w in words if w not in stopwords and len(w) > 2]\n",
      "        f = open('./tokens/'+fileid.replace('/','_'),'w')\n",
      "        for w in doc:\n",
      "            f.write(w+u'\\n')\n",
      "        f.close()\n",
      "        "
     ],
     "language": "python",
     "metadata": {},
     "outputs": [],
     "prompt_number": 46
    },
    {
     "cell_type": "code",
     "collapsed": false,
     "input": [
      "tokenizar_docs()"
     ],
     "language": "python",
     "metadata": {},
     "outputs": [],
     "prompt_number": 47
    },
    {
     "cell_type": "code",
     "collapsed": false,
     "input": [
      "%clear"
     ],
     "language": "python",
     "metadata": {},
     "outputs": [],
     "prompt_number": 48
    },
    {
     "cell_type": "code",
     "collapsed": false,
     "input": [
      "%clear"
     ],
     "language": "python",
     "metadata": {},
     "outputs": [],
     "prompt_number": 49
    },
    {
     "cell_type": "code",
     "collapsed": false,
     "input": [
      "%clear"
     ],
     "language": "python",
     "metadata": {},
     "outputs": [],
     "prompt_number": 50
    }
   ],
   "metadata": {}
  }
 ]
}