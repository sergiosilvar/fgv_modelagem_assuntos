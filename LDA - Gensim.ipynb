{
 "metadata": {
  "name": ""
 },
 "nbformat": 3,
 "nbformat_minor": 0,
 "worksheets": [
  {
   "cells": [
    {
     "cell_type": "markdown",
     "metadata": {},
     "source": [
      "http://radimrehurek.com/gensim/tut1.html\n",
      "\n",
      "https://groups.google.com/forum/#!msg/gensim/sbf8OmVsCqw/uZlfeCp54_cJ"
     ]
    },
    {
     "cell_type": "code",
     "collapsed": false,
     "input": [
      "from gensim import corpora, models, similarities\n",
      "from nltk.corpus import movie_reviews, stopwords, reuters\n",
      "from string import punctuation\n",
      "\n",
      "%pylab inline"
     ],
     "language": "python",
     "metadata": {},
     "outputs": []
    },
    {
     "cell_type": "code",
     "collapsed": false,
     "input": [
      "import logging\n",
      "logging.basicConfig(format='%(asctime)s : %(levelname)s : %(message)s', level=logging.WARNING)"
     ],
     "language": "python",
     "metadata": {},
     "outputs": []
    },
    {
     "cell_type": "code",
     "collapsed": false,
     "input": [
      "# Classe geradora de corpus para n\u00e3o colocar todo corpus na mem\u00f3ria.\n",
      "class MyCorpus(object):\n",
      "    def __init__(self, nltk_corpus):\n",
      "        self.nltk_corpus =  nltk_corpus\n",
      "        \n",
      "    def __iter__(self):\n",
      "        for fileid in self.nltk_corpus.fileids():\n",
      "            # assume there's one document per line, tokens separated by whitespace\n",
      "            #yield dictionary.doc2bow(line.lower().split())\n",
      "            yield self.nltk_corpus.words(fileid)\n",
      "    \n",
      "    def __getitem__(self,index):\n",
      "        indexes = self.nltk_corpus.fileids()\n",
      "        fileid = indexes[index]\n",
      "        yield self.nltk_corpus.words(fileid)\n",
      "        \n",
      "\n",
      "def stopwords_list():\n",
      "    return [p for p in punctuation] + stopwords.words('english') + \\\n",
      "        ['and','or','if','else','then','but','none','movie','like','get','plot','review']\n",
      "\n",
      "def distrib(topics):\n",
      "    p = []\n",
      "    for top in topics:\n",
      "        lista_p = top.split(' + ') \n",
      "        vk = [(l.split('*')[1],float(l.split('*')[0])) for l in lista_p ]\n",
      "        p.append(vk)\n",
      "        #[l[1] for l in lista_v]\n",
      "    return p\n",
      "\n",
      "def NewCorpus():\n",
      "    return MyCorpus(movie_reviews)"
     ],
     "language": "python",
     "metadata": {},
     "outputs": [],
     "prompt_number": 7
    },
    {
     "cell_type": "code",
     "collapsed": false,
     "input": [
      "dict_ = corpora.Dictionary(NewCorpus())\n",
      "stop_ids = [dict_.token2id[stopword] for stopword in stopwords_list() if stopword in dict_.token2id]\n",
      "#low_ids = [tokenid for tokenid, docfreq in dict_.dfs.iteritems() if docfreq <= 3]\n",
      "dict_.filter_tokens(stop_ids) # remove stop words and words that appear only once\n",
      "dict_.filter_extremes(no_below=3, no_above=0.8)\n",
      "dict_.compactify() # remove gaps in id sequence after words that were removed\n",
      "new_corpus = []\n",
      "\n",
      "for doc in NewCorpus():\n",
      "    new_corpus.append(dict_.doc2bow(doc))\n",
      "    \n",
      "lda = models.ldamodel.LdaModel(new_corpus, id2word=dict_,num_topics=30)\n"
     ],
     "language": "python",
     "metadata": {},
     "outputs": []
    },
    {
     "cell_type": "code",
     "collapsed": false,
     "input": [
      "lda.show_topics()"
     ],
     "language": "python",
     "metadata": {},
     "outputs": []
    },
    {
     "cell_type": "code",
     "collapsed": false,
     "input": [
      "lda.save('./movie_reviews/lda')\n",
      "dict_.save('./movie_reviews/dic')\n",
      "dict_.save_as_text('./movie_reviews/dic.txt')"
     ],
     "language": "python",
     "metadata": {},
     "outputs": []
    },
    {
     "cell_type": "code",
     "collapsed": false,
     "input": [],
     "language": "python",
     "metadata": {},
     "outputs": []
    },
    {
     "cell_type": "code",
     "collapsed": false,
     "input": [
      "lda = models.LdaModel.load('./movie_reviews/lda')"
     ],
     "language": "python",
     "metadata": {},
     "outputs": [],
     "prompt_number": 4
    },
    {
     "cell_type": "code",
     "collapsed": false,
     "input": [
      "lda.show_topics()"
     ],
     "language": "python",
     "metadata": {},
     "outputs": [
      {
       "metadata": {},
       "output_type": "pyout",
       "prompt_number": 5,
       "text": [
        "['0.005*-- + 0.004*time + 0.004*also + 0.004*even + 0.004*characters + 0.004*character + 0.004*would + 0.003*story + 0.003*well + 0.003*way',\n",
        " '0.006*even + 0.004*well + 0.003*story + 0.003*much + 0.003*would + 0.003*also + 0.003*first + 0.003*see + 0.003*could + 0.003*--',\n",
        " '0.004*even + 0.004*good + 0.004*character + 0.004*also + 0.003*characters + 0.003*first + 0.003*well + 0.003*-- + 0.003*time + 0.003*would',\n",
        " '0.004*good + 0.004*even + 0.004*time + 0.004*would + 0.004*really + 0.004*characters + 0.003*two + 0.003*little + 0.003*character + 0.003*see',\n",
        " '0.005*even + 0.004*would + 0.004*characters + 0.004*also + 0.003*way + 0.003*time + 0.003*two + 0.003*good + 0.003*see + 0.003*much',\n",
        " '0.005*time + 0.005*even + 0.005*good + 0.004*bad + 0.003*also + 0.003*two + 0.003*love + 0.003*action + 0.003*first + 0.003*character',\n",
        " '0.004*time + 0.004*even + 0.004*good + 0.004*well + 0.003*would + 0.003*two + 0.003*life + 0.003*-- + 0.003*characters + 0.003*could',\n",
        " '0.007*good + 0.004*time + 0.004*even + 0.004*also + 0.003*could + 0.003*well + 0.003*really + 0.003*see + 0.003*best + 0.003*two',\n",
        " '0.004*see + 0.004*would + 0.004*time + 0.003*even + 0.003*good + 0.003*man + 0.003*life + 0.003*could + 0.003*two + 0.003*little',\n",
        " '0.004*good + 0.003*time + 0.003*characters + 0.003*character + 0.003*even + 0.003*two + 0.003*scenes + 0.003*could + 0.003*many + 0.003*much']"
       ]
      }
     ],
     "prompt_number": 5
    },
    {
     "cell_type": "code",
     "collapsed": false,
     "input": [
      "distrib(lda.show_topics())"
     ],
     "language": "python",
     "metadata": {},
     "outputs": [
      {
       "metadata": {},
       "output_type": "pyout",
       "prompt_number": 8,
       "text": [
        "[[('even', 0.004),\n",
        "  ('first', 0.003),\n",
        "  ('well', 0.003),\n",
        "  ('would', 0.003),\n",
        "  ('bad', 0.003),\n",
        "  ('films', 0.003),\n",
        "  ('much', 0.003),\n",
        "  ('two', 0.003),\n",
        "  ('scene', 0.003),\n",
        "  ('action', 0.003)],\n",
        " [('see', 0.004),\n",
        "  ('would', 0.004),\n",
        "  ('time', 0.004),\n",
        "  ('even', 0.003),\n",
        "  ('good', 0.003),\n",
        "  ('man', 0.003),\n",
        "  ('life', 0.003),\n",
        "  ('could', 0.003),\n",
        "  ('two', 0.003),\n",
        "  ('little', 0.003)],\n",
        " [('--', 0.005),\n",
        "  ('time', 0.004),\n",
        "  ('also', 0.004),\n",
        "  ('even', 0.004),\n",
        "  ('characters', 0.004),\n",
        "  ('character', 0.004),\n",
        "  ('would', 0.004),\n",
        "  ('story', 0.003),\n",
        "  ('well', 0.003),\n",
        "  ('way', 0.003)],\n",
        " [('story', 0.004),\n",
        "  ('first', 0.003),\n",
        "  ('time', 0.003),\n",
        "  ('two', 0.003),\n",
        "  ('man', 0.003),\n",
        "  ('make', 0.003),\n",
        "  ('--', 0.003),\n",
        "  ('character', 0.003),\n",
        "  ('director', 0.003),\n",
        "  ('would', 0.003)],\n",
        " [('even', 0.005),\n",
        "  ('character', 0.004),\n",
        "  ('story', 0.004),\n",
        "  ('way', 0.003),\n",
        "  ('would', 0.003),\n",
        "  ('first', 0.003),\n",
        "  ('well', 0.003),\n",
        "  ('make', 0.003),\n",
        "  ('characters', 0.003),\n",
        "  ('movies', 0.002)],\n",
        " [('story', 0.005),\n",
        "  ('much', 0.004),\n",
        "  ('character', 0.004),\n",
        "  ('make', 0.004),\n",
        "  ('good', 0.004),\n",
        "  ('even', 0.004),\n",
        "  ('would', 0.004),\n",
        "  ('two', 0.004),\n",
        "  ('also', 0.003),\n",
        "  ('us', 0.003)],\n",
        " [('well', 0.004),\n",
        "  ('time', 0.004),\n",
        "  ('story', 0.004),\n",
        "  ('character', 0.004),\n",
        "  ('--', 0.004),\n",
        "  ('life', 0.003),\n",
        "  ('new', 0.003),\n",
        "  ('would', 0.003),\n",
        "  ('good', 0.003),\n",
        "  ('even', 0.003)],\n",
        " [('story', 0.006),\n",
        "  ('time', 0.004),\n",
        "  ('good', 0.004),\n",
        "  ('would', 0.003),\n",
        "  ('character', 0.003),\n",
        "  ('characters', 0.003),\n",
        "  ('also', 0.003),\n",
        "  ('--', 0.003),\n",
        "  ('make', 0.003),\n",
        "  ('even', 0.003)],\n",
        " [('good', 0.004),\n",
        "  ('even', 0.004),\n",
        "  ('time', 0.004),\n",
        "  ('would', 0.004),\n",
        "  ('really', 0.004),\n",
        "  ('characters', 0.004),\n",
        "  ('two', 0.003),\n",
        "  ('little', 0.003),\n",
        "  ('character', 0.003),\n",
        "  ('see', 0.003)],\n",
        " [('even', 0.005),\n",
        "  ('good', 0.005),\n",
        "  ('also', 0.004),\n",
        "  ('story', 0.004),\n",
        "  ('much', 0.003),\n",
        "  ('make', 0.003),\n",
        "  ('character', 0.003),\n",
        "  ('well', 0.003),\n",
        "  ('life', 0.003),\n",
        "  ('see', 0.003)]]"
       ]
      }
     ],
     "prompt_number": 8
    },
    {
     "cell_type": "code",
     "collapsed": false,
     "input": [],
     "language": "python",
     "metadata": {},
     "outputs": []
    },
    {
     "cell_type": "code",
     "collapsed": false,
     "input": [],
     "language": "python",
     "metadata": {},
     "outputs": []
    },
    {
     "cell_type": "code",
     "collapsed": false,
     "input": [],
     "language": "python",
     "metadata": {},
     "outputs": []
    },
    {
     "cell_type": "code",
     "collapsed": false,
     "input": [],
     "language": "python",
     "metadata": {},
     "outputs": []
    },
    {
     "cell_type": "code",
     "collapsed": false,
     "input": [],
     "language": "python",
     "metadata": {},
     "outputs": []
    },
    {
     "cell_type": "code",
     "collapsed": false,
     "input": [],
     "language": "python",
     "metadata": {},
     "outputs": []
    }
   ],
   "metadata": {}
  }
 ]
}